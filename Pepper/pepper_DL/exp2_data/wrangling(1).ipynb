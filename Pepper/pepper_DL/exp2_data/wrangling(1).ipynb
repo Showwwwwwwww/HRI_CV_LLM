{
 "cells": [
  {
   "cell_type": "markdown",
   "id": "27f1254b",
   "metadata": {},
   "source": [
    "# Wrangling data for in-the-wild robot experiments"
   ]
  },
  {
   "cell_type": "markdown",
   "id": "8e141324",
   "metadata": {},
   "source": [
    "## Preamble"
   ]
  },
  {
   "cell_type": "code",
   "execution_count": 1,
   "id": "6087a959",
   "metadata": {},
   "outputs": [],
   "source": [
    "# import dependencies\n",
    "import pandas as pd\n",
    "import numpy as np\n",
    "import os"
   ]
  },
  {
   "cell_type": "code",
   "execution_count": 2,
   "id": "20e24419",
   "metadata": {},
   "outputs": [],
   "source": [
    "# Load data\n",
    "\n",
    "file_names = os.listdir(\"raw\")\n",
    "\n",
    "# We're specifying sheet names here because by default, pandas will join everything into one dataframe\n",
    "# Add convert_dtypes at the end of every df to prevent it from assigning int to float\n",
    "observations_oc = pd.read_excel(os.path.join(\"raw\", file_names[0]), sheet_name=\"OC1\").convert_dtypes() \n",
    "observations_default = pd.read_excel(os.path.join(\"raw\", file_names[0]), sheet_name=\"D1\").convert_dtypes() \n",
    "\n",
    "# We're dropping any NAs for survey responses, which was caused by out pilot study\n",
    "default = pd.read_excel(os.path.join(\"raw\", \n",
    "                                     file_names[1]), \n",
    "                        sheet_name=0).dropna(how=\"all\").reset_index(drop=True).convert_dtypes() \n",
    "oc = pd.read_excel(os.path.join(\"raw\", \n",
    "                                file_names[2]), \n",
    "                   sheet_name=0).dropna(how=\"all\").reset_index(drop=True).convert_dtypes() \n"
   ]
  },
  {
   "cell_type": "markdown",
   "id": "4d09351f",
   "metadata": {},
   "source": [
    "## Cleaning Observation data"
   ]
  },
  {
   "cell_type": "markdown",
   "id": "03ac8858",
   "metadata": {},
   "source": [
    "For observation data, I forgot that I can just fill NA's after data collection, so I made many default entries for rows, even though I didn't collect data for them. Hence, our data is going to look pretty inflated:"
   ]
  },
  {
   "cell_type": "code",
   "execution_count": 3,
   "id": "c7b0f659",
   "metadata": {},
   "outputs": [
    {
     "name": "stdout",
     "output_type": "stream",
     "text": [
      "Default shape: (199, 13)\n",
      "OC shape: (425, 13)\n"
     ]
    }
   ],
   "source": [
    "print(\"Default shape:\", observations_default.shape)\n",
    "print(\"OC shape:\", observations_oc.shape)"
   ]
  },
  {
   "cell_type": "markdown",
   "id": "6fd10dcd",
   "metadata": {},
   "source": [
    "One way to tell is to look at their group numbers. The default group number is always 0. The only time when this is valid is when it's the first row in our data. Hence, we can remove every other row featuring **Group**==0:"
   ]
  },
  {
   "cell_type": "code",
   "execution_count": 4,
   "id": "cadb6de3",
   "metadata": {},
   "outputs": [],
   "source": [
    "def delete_group_0s(df):\n",
    "    # Get every row with Group = 0, only grab from 2nd to last rows, and save their indices:\n",
    "    idx = df[df.Group==0][1:].index\n",
    "    # Drop those indices and return\n",
    "    return df.drop(idx)\n",
    "\n",
    "# Drop extra rows for observation data:\n",
    "observations_default = delete_group_0s(observations_default)\n",
    "observations_oc = delete_group_0s(observations_oc)"
   ]
  },
  {
   "cell_type": "markdown",
   "id": "b6840f8f",
   "metadata": {},
   "source": [
    "Let's examine the shape of our final observation data frames:"
   ]
  },
  {
   "cell_type": "code",
   "execution_count": 5,
   "id": "74b5302f",
   "metadata": {},
   "outputs": [
    {
     "name": "stdout",
     "output_type": "stream",
     "text": [
      "Default shape: (138, 13)\n",
      "OC shape: (425, 13)\n"
     ]
    }
   ],
   "source": [
    "print(\"Default shape:\", observations_default.shape)\n",
    "print(\"OC shape:\", observations_oc.shape)"
   ]
  },
  {
   "cell_type": "markdown",
   "id": "9a9e588d",
   "metadata": {},
   "source": [
    "During sessions for OC-SORT, I've mistakened the column of **false_alarm** for **Survey** and vice versa. So, let's switch it around:"
   ]
  },
  {
   "cell_type": "code",
   "execution_count": 6,
   "id": "804c5cc2",
   "metadata": {},
   "outputs": [
    {
     "data": {
      "text/html": [
       "<div>\n",
       "<style scoped>\n",
       "    .dataframe tbody tr th:only-of-type {\n",
       "        vertical-align: middle;\n",
       "    }\n",
       "\n",
       "    .dataframe tbody tr th {\n",
       "        vertical-align: top;\n",
       "    }\n",
       "\n",
       "    .dataframe thead th {\n",
       "        text-align: right;\n",
       "    }\n",
       "</style>\n",
       "<table border=\"1\" class=\"dataframe\">\n",
       "  <thead>\n",
       "    <tr style=\"text-align: right;\">\n",
       "      <th></th>\n",
       "      <th>Time</th>\n",
       "      <th>Group</th>\n",
       "      <th>Participant</th>\n",
       "      <th>Success</th>\n",
       "      <th>Invested</th>\n",
       "      <th>Photo</th>\n",
       "      <th>Emotion</th>\n",
       "      <th>false_alarm</th>\n",
       "      <th>Notes</th>\n",
       "      <th>Survey</th>\n",
       "      <th>I1</th>\n",
       "      <th>I2</th>\n",
       "      <th>I3</th>\n",
       "    </tr>\n",
       "  </thead>\n",
       "  <tbody>\n",
       "    <tr>\n",
       "      <th>0</th>\n",
       "      <td>2023-07-27 12:02:21.965</td>\n",
       "      <td>0</td>\n",
       "      <td>0</td>\n",
       "      <td>0</td>\n",
       "      <td>0</td>\n",
       "      <td>0</td>\n",
       "      <td>N</td>\n",
       "      <td>&lt;NA&gt;</td>\n",
       "      <td>&lt;NA&gt;</td>\n",
       "      <td>0</td>\n",
       "      <td>&lt;NA&gt;</td>\n",
       "      <td>&lt;NA&gt;</td>\n",
       "      <td>&lt;NA&gt;</td>\n",
       "    </tr>\n",
       "    <tr>\n",
       "      <th>1</th>\n",
       "      <td>2023-07-27 12:02:33.701</td>\n",
       "      <td>1</td>\n",
       "      <td>0</td>\n",
       "      <td>0</td>\n",
       "      <td>0</td>\n",
       "      <td>0</td>\n",
       "      <td>N</td>\n",
       "      <td>&lt;NA&gt;</td>\n",
       "      <td>&lt;NA&gt;</td>\n",
       "      <td>0</td>\n",
       "      <td>&lt;NA&gt;</td>\n",
       "      <td>&lt;NA&gt;</td>\n",
       "      <td>&lt;NA&gt;</td>\n",
       "    </tr>\n",
       "    <tr>\n",
       "      <th>2</th>\n",
       "      <td>2023-07-27 12:02:40.055</td>\n",
       "      <td>2</td>\n",
       "      <td>0</td>\n",
       "      <td>0</td>\n",
       "      <td>0</td>\n",
       "      <td>0</td>\n",
       "      <td>N</td>\n",
       "      <td>&lt;NA&gt;</td>\n",
       "      <td>&lt;NA&gt;</td>\n",
       "      <td>0</td>\n",
       "      <td>&lt;NA&gt;</td>\n",
       "      <td>&lt;NA&gt;</td>\n",
       "      <td>&lt;NA&gt;</td>\n",
       "    </tr>\n",
       "    <tr>\n",
       "      <th>3</th>\n",
       "      <td>2023-07-27 12:02:51.530</td>\n",
       "      <td>3</td>\n",
       "      <td>0</td>\n",
       "      <td>0</td>\n",
       "      <td>0</td>\n",
       "      <td>0</td>\n",
       "      <td>N</td>\n",
       "      <td>&lt;NA&gt;</td>\n",
       "      <td>&lt;NA&gt;</td>\n",
       "      <td>0</td>\n",
       "      <td>&lt;NA&gt;</td>\n",
       "      <td>&lt;NA&gt;</td>\n",
       "      <td>&lt;NA&gt;</td>\n",
       "    </tr>\n",
       "    <tr>\n",
       "      <th>4</th>\n",
       "      <td>2023-07-27 12:04:14.732</td>\n",
       "      <td>4</td>\n",
       "      <td>0</td>\n",
       "      <td>0</td>\n",
       "      <td>0</td>\n",
       "      <td>0</td>\n",
       "      <td>N</td>\n",
       "      <td>&lt;NA&gt;</td>\n",
       "      <td>&lt;NA&gt;</td>\n",
       "      <td>0</td>\n",
       "      <td>&lt;NA&gt;</td>\n",
       "      <td>&lt;NA&gt;</td>\n",
       "      <td>&lt;NA&gt;</td>\n",
       "    </tr>\n",
       "  </tbody>\n",
       "</table>\n",
       "</div>"
      ],
      "text/plain": [
       "                     Time  Group  Participant  Success  Invested  Photo  \\\n",
       "0 2023-07-27 12:02:21.965      0            0        0         0      0   \n",
       "1 2023-07-27 12:02:33.701      1            0        0         0      0   \n",
       "2 2023-07-27 12:02:40.055      2            0        0         0      0   \n",
       "3 2023-07-27 12:02:51.530      3            0        0         0      0   \n",
       "4 2023-07-27 12:04:14.732      4            0        0         0      0   \n",
       "\n",
       "  Emotion  false_alarm  Notes  Survey    I1    I2    I3  \n",
       "0       N         <NA>   <NA>       0  <NA>  <NA>  <NA>  \n",
       "1       N         <NA>   <NA>       0  <NA>  <NA>  <NA>  \n",
       "2       N         <NA>   <NA>       0  <NA>  <NA>  <NA>  \n",
       "3       N         <NA>   <NA>       0  <NA>  <NA>  <NA>  \n",
       "4       N         <NA>   <NA>       0  <NA>  <NA>  <NA>  "
      ]
     },
     "execution_count": 6,
     "metadata": {},
     "output_type": "execute_result"
    }
   ],
   "source": [
    "observations_oc[\"false_alarm\"], observations_oc[\"Survey\"] = observations_oc[\"Survey\"], observations_oc[\"false_alarm\"]\n",
    "observations_oc.head()"
   ]
  },
  {
   "cell_type": "markdown",
   "id": "1f0529af",
   "metadata": {},
   "source": [
    "Since **false_alarm** is the only boolean with NA, we'll fill it with 0 as the default:"
   ]
  },
  {
   "cell_type": "code",
   "execution_count": 7,
   "id": "e0f53eaa",
   "metadata": {},
   "outputs": [
    {
     "data": {
      "text/html": [
       "<div>\n",
       "<style scoped>\n",
       "    .dataframe tbody tr th:only-of-type {\n",
       "        vertical-align: middle;\n",
       "    }\n",
       "\n",
       "    .dataframe tbody tr th {\n",
       "        vertical-align: top;\n",
       "    }\n",
       "\n",
       "    .dataframe thead th {\n",
       "        text-align: right;\n",
       "    }\n",
       "</style>\n",
       "<table border=\"1\" class=\"dataframe\">\n",
       "  <thead>\n",
       "    <tr style=\"text-align: right;\">\n",
       "      <th></th>\n",
       "      <th>Time</th>\n",
       "      <th>Group</th>\n",
       "      <th>Participant</th>\n",
       "      <th>Success</th>\n",
       "      <th>Invested</th>\n",
       "      <th>Photo</th>\n",
       "      <th>Emotion</th>\n",
       "      <th>false_alarm</th>\n",
       "      <th>Notes</th>\n",
       "      <th>Survey</th>\n",
       "      <th>I1</th>\n",
       "      <th>I2</th>\n",
       "      <th>I3</th>\n",
       "    </tr>\n",
       "  </thead>\n",
       "  <tbody>\n",
       "    <tr>\n",
       "      <th>0</th>\n",
       "      <td>2023-07-27 12:02:21.965</td>\n",
       "      <td>0</td>\n",
       "      <td>0</td>\n",
       "      <td>0</td>\n",
       "      <td>0</td>\n",
       "      <td>0</td>\n",
       "      <td>N</td>\n",
       "      <td>0</td>\n",
       "      <td>&lt;NA&gt;</td>\n",
       "      <td>0</td>\n",
       "      <td>&lt;NA&gt;</td>\n",
       "      <td>&lt;NA&gt;</td>\n",
       "      <td>&lt;NA&gt;</td>\n",
       "    </tr>\n",
       "    <tr>\n",
       "      <th>1</th>\n",
       "      <td>2023-07-27 12:02:33.701</td>\n",
       "      <td>1</td>\n",
       "      <td>0</td>\n",
       "      <td>0</td>\n",
       "      <td>0</td>\n",
       "      <td>0</td>\n",
       "      <td>N</td>\n",
       "      <td>0</td>\n",
       "      <td>&lt;NA&gt;</td>\n",
       "      <td>0</td>\n",
       "      <td>&lt;NA&gt;</td>\n",
       "      <td>&lt;NA&gt;</td>\n",
       "      <td>&lt;NA&gt;</td>\n",
       "    </tr>\n",
       "    <tr>\n",
       "      <th>2</th>\n",
       "      <td>2023-07-27 12:02:40.055</td>\n",
       "      <td>2</td>\n",
       "      <td>0</td>\n",
       "      <td>0</td>\n",
       "      <td>0</td>\n",
       "      <td>0</td>\n",
       "      <td>N</td>\n",
       "      <td>0</td>\n",
       "      <td>&lt;NA&gt;</td>\n",
       "      <td>0</td>\n",
       "      <td>&lt;NA&gt;</td>\n",
       "      <td>&lt;NA&gt;</td>\n",
       "      <td>&lt;NA&gt;</td>\n",
       "    </tr>\n",
       "    <tr>\n",
       "      <th>3</th>\n",
       "      <td>2023-07-27 12:02:51.530</td>\n",
       "      <td>3</td>\n",
       "      <td>0</td>\n",
       "      <td>0</td>\n",
       "      <td>0</td>\n",
       "      <td>0</td>\n",
       "      <td>N</td>\n",
       "      <td>0</td>\n",
       "      <td>&lt;NA&gt;</td>\n",
       "      <td>0</td>\n",
       "      <td>&lt;NA&gt;</td>\n",
       "      <td>&lt;NA&gt;</td>\n",
       "      <td>&lt;NA&gt;</td>\n",
       "    </tr>\n",
       "    <tr>\n",
       "      <th>4</th>\n",
       "      <td>2023-07-27 12:04:14.732</td>\n",
       "      <td>4</td>\n",
       "      <td>0</td>\n",
       "      <td>0</td>\n",
       "      <td>0</td>\n",
       "      <td>0</td>\n",
       "      <td>N</td>\n",
       "      <td>0</td>\n",
       "      <td>&lt;NA&gt;</td>\n",
       "      <td>0</td>\n",
       "      <td>&lt;NA&gt;</td>\n",
       "      <td>&lt;NA&gt;</td>\n",
       "      <td>&lt;NA&gt;</td>\n",
       "    </tr>\n",
       "  </tbody>\n",
       "</table>\n",
       "</div>"
      ],
      "text/plain": [
       "                     Time  Group  Participant  Success  Invested  Photo  \\\n",
       "0 2023-07-27 12:02:21.965      0            0        0         0      0   \n",
       "1 2023-07-27 12:02:33.701      1            0        0         0      0   \n",
       "2 2023-07-27 12:02:40.055      2            0        0         0      0   \n",
       "3 2023-07-27 12:02:51.530      3            0        0         0      0   \n",
       "4 2023-07-27 12:04:14.732      4            0        0         0      0   \n",
       "\n",
       "  Emotion  false_alarm  Notes  Survey    I1    I2    I3  \n",
       "0       N            0   <NA>       0  <NA>  <NA>  <NA>  \n",
       "1       N            0   <NA>       0  <NA>  <NA>  <NA>  \n",
       "2       N            0   <NA>       0  <NA>  <NA>  <NA>  \n",
       "3       N            0   <NA>       0  <NA>  <NA>  <NA>  \n",
       "4       N            0   <NA>       0  <NA>  <NA>  <NA>  "
      ]
     },
     "execution_count": 7,
     "metadata": {},
     "output_type": "execute_result"
    }
   ],
   "source": [
    "observations_oc.false_alarm.fillna(0, inplace=True)\n",
    "observations_oc.head()"
   ]
  },
  {
   "cell_type": "markdown",
   "id": "108c6e97",
   "metadata": {},
   "source": [
    "## Cleaning survey data"
   ]
  },
  {
   "cell_type": "markdown",
   "id": "3214c7bb",
   "metadata": {},
   "source": [
    "There's a shape mismatch between **oc** and **default**:"
   ]
  },
  {
   "cell_type": "code",
   "execution_count": 8,
   "id": "b4502f1a",
   "metadata": {},
   "outputs": [
    {
     "name": "stdout",
     "output_type": "stream",
     "text": [
      "OC-SORT survey shape: (8, 17)\n",
      "Default survey shape: (9, 14)\n"
     ]
    }
   ],
   "source": [
    "print(\"OC-SORT survey shape:\", oc.shape)\n",
    "print(\"Default survey shape:\", default.shape)"
   ]
  },
  {
   "cell_type": "markdown",
   "id": "67a35936",
   "metadata": {},
   "source": [
    "This is because during the pilot study, I included interview questions in the survey response for OC-SORT, which was a bad idea. Let's make it so that has the same columns as **default**:"
   ]
  },
  {
   "cell_type": "code",
   "execution_count": 9,
   "id": "fe1ef52e",
   "metadata": {},
   "outputs": [
    {
     "name": "stdout",
     "output_type": "stream",
     "text": [
      "New oc shape: (8, 14)\n"
     ]
    }
   ],
   "source": [
    "oc = oc[default.columns.tolist()]\n",
    "print(\"New oc shape:\", oc.shape)"
   ]
  },
  {
   "cell_type": "markdown",
   "id": "4eabb4ed",
   "metadata": {},
   "source": [
    "## Checking data integrity"
   ]
  },
  {
   "cell_type": "markdown",
   "id": "2938d58b",
   "metadata": {},
   "source": [
    "It's likely that I might've made some mistakes during data collection. Let's fix some of them!"
   ]
  },
  {
   "cell_type": "markdown",
   "id": "90890321",
   "metadata": {},
   "source": [
    "### Is Group increasing?"
   ]
  },
  {
   "cell_type": "markdown",
   "id": "b4197d8c",
   "metadata": {},
   "source": [
    "**Group** was collected by incrementing the previous value by 1 for each new group/person that has walked in front of the robot. Since this was done by hand, it's likely that I might've made mistakes during this process."
   ]
  },
  {
   "cell_type": "code",
   "execution_count": 10,
   "id": "4a7d87e5",
   "metadata": {},
   "outputs": [],
   "source": [
    "def monotonic_increasing_by_one(df, cat):\n",
    "    nums = df[cat].tolist()\n",
    "    c = nums[0]\n",
    "    for i in range(1,len(nums)):\n",
    "        diff = nums[i] - c\n",
    "        if diff > 1:\n",
    "            print(\"This list is not monotonically increasing by 1 or 0. This occurred at index\", i, \"where the previous number\", c, \"is\", diff, \"less than\", nums[i])\n",
    "            break\n",
    "        else:\n",
    "            c = nums[i]\n",
    "    else:\n",
    "        print(\"This list is monotonically increasing by 1 or 0\")"
   ]
  },
  {
   "cell_type": "code",
   "execution_count": 11,
   "id": "bc44fe8b",
   "metadata": {},
   "outputs": [
    {
     "name": "stdout",
     "output_type": "stream",
     "text": [
      "Checking for Default:\n",
      "This list is monotonically increasing by 1 or 0\n",
      "Checking for OC-SORT:\n",
      "This list is monotonically increasing by 1 or 0\n"
     ]
    }
   ],
   "source": [
    "print(\"Checking for Default:\")\n",
    "monotonic_increasing_by_one(observations_default, \"Group\")\n",
    "print(\"Checking for OC-SORT:\")\n",
    "monotonic_increasing_by_one(observations_oc, \"Group\")"
   ]
  },
  {
   "cell_type": "markdown",
   "id": "a652aa5d",
   "metadata": {},
   "source": [
    "Good, now our **Group** attribute has been validated."
   ]
  },
  {
   "cell_type": "markdown",
   "id": "3fd6b121",
   "metadata": {},
   "source": [
    "### Do passerbys in the same group have the same time?"
   ]
  },
  {
   "cell_type": "markdown",
   "id": "d5798143",
   "metadata": {},
   "source": [
    "I've recorded this data where people from the same group would encounter Pepper at the same time. Using this answer in [StackOverflow](https://stackoverflow.com/questions/54518504/check-if-group-contains-same-value-in-pandas), we can do just that:"
   ]
  },
  {
   "cell_type": "code",
   "execution_count": 12,
   "id": "7129c146",
   "metadata": {},
   "outputs": [],
   "source": [
    "def same_group_diff_time(df):\n",
    "    # Returns a list of group numbers that don't have the same time\n",
    "    a = df.groupby('Group').Time.nunique() > 1\n",
    "    return a[a].index.tolist()\n",
    "\n",
    "def fix_group_number_time(df):\n",
    "    # Given a dataframe, find all instances where group numbers match, but time doesn't, then replace all instances\n",
    "    # of time mismatch with the first Time of the same group\n",
    "    for n in same_group_diff_time(df):\n",
    "        d = df[df.Group==n].iloc[0,0]\n",
    "        df.loc[df.Group==n,\"Time\"] = d\n",
    "    return df"
   ]
  },
  {
   "cell_type": "code",
   "execution_count": 13,
   "id": "d065c0ab",
   "metadata": {},
   "outputs": [],
   "source": [
    "observations_default = fix_group_number_time(observations_default)\n",
    "observations_oc = fix_group_number_time(observations_oc)"
   ]
  },
  {
   "cell_type": "markdown",
   "id": "5dc71882",
   "metadata": {},
   "source": [
    "Running these new dataframes through *same_group_diff_time* should yield empty lists:"
   ]
  },
  {
   "cell_type": "code",
   "execution_count": 14,
   "id": "e52bac3c",
   "metadata": {},
   "outputs": [
    {
     "name": "stdout",
     "output_type": "stream",
     "text": [
      "Any more mismatched time for Default? []\n",
      "Any more mismatched time for OC-SORT? []\n"
     ]
    }
   ],
   "source": [
    "print(\"Any more mismatched time for Default?\", same_group_diff_time(observations_default))\n",
    "print(\"Any more mismatched time for OC-SORT?\", same_group_diff_time(observations_oc))"
   ]
  },
  {
   "cell_type": "markdown",
   "id": "6600b4e8",
   "metadata": {},
   "source": [
    "And that is our time problem solved and validated."
   ]
  },
  {
   "cell_type": "code",
   "execution_count": 15,
   "id": "d57745b7",
   "metadata": {},
   "outputs": [
    {
     "data": {
      "text/html": [
       "<div>\n",
       "<style scoped>\n",
       "    .dataframe tbody tr th:only-of-type {\n",
       "        vertical-align: middle;\n",
       "    }\n",
       "\n",
       "    .dataframe tbody tr th {\n",
       "        vertical-align: top;\n",
       "    }\n",
       "\n",
       "    .dataframe thead th {\n",
       "        text-align: right;\n",
       "    }\n",
       "</style>\n",
       "<table border=\"1\" class=\"dataframe\">\n",
       "  <thead>\n",
       "    <tr style=\"text-align: right;\">\n",
       "      <th></th>\n",
       "      <th>Time</th>\n",
       "      <th>Group</th>\n",
       "      <th>Participant</th>\n",
       "      <th>Success</th>\n",
       "      <th>Invested</th>\n",
       "      <th>Photo</th>\n",
       "      <th>Emotion</th>\n",
       "      <th>false_alarm</th>\n",
       "      <th>Notes</th>\n",
       "      <th>Survey</th>\n",
       "      <th>I1</th>\n",
       "      <th>I2</th>\n",
       "      <th>I3</th>\n",
       "    </tr>\n",
       "  </thead>\n",
       "  <tbody>\n",
       "    <tr>\n",
       "      <th>0</th>\n",
       "      <td>2023-07-27 12:02:21.965</td>\n",
       "      <td>0</td>\n",
       "      <td>0</td>\n",
       "      <td>0</td>\n",
       "      <td>0</td>\n",
       "      <td>0</td>\n",
       "      <td>N</td>\n",
       "      <td>0</td>\n",
       "      <td>&lt;NA&gt;</td>\n",
       "      <td>0</td>\n",
       "      <td>&lt;NA&gt;</td>\n",
       "      <td>&lt;NA&gt;</td>\n",
       "      <td>&lt;NA&gt;</td>\n",
       "    </tr>\n",
       "    <tr>\n",
       "      <th>1</th>\n",
       "      <td>2023-07-27 12:02:33.701</td>\n",
       "      <td>1</td>\n",
       "      <td>0</td>\n",
       "      <td>0</td>\n",
       "      <td>0</td>\n",
       "      <td>0</td>\n",
       "      <td>N</td>\n",
       "      <td>0</td>\n",
       "      <td>&lt;NA&gt;</td>\n",
       "      <td>0</td>\n",
       "      <td>&lt;NA&gt;</td>\n",
       "      <td>&lt;NA&gt;</td>\n",
       "      <td>&lt;NA&gt;</td>\n",
       "    </tr>\n",
       "    <tr>\n",
       "      <th>2</th>\n",
       "      <td>2023-07-27 12:02:40.055</td>\n",
       "      <td>2</td>\n",
       "      <td>0</td>\n",
       "      <td>0</td>\n",
       "      <td>0</td>\n",
       "      <td>0</td>\n",
       "      <td>N</td>\n",
       "      <td>0</td>\n",
       "      <td>&lt;NA&gt;</td>\n",
       "      <td>0</td>\n",
       "      <td>&lt;NA&gt;</td>\n",
       "      <td>&lt;NA&gt;</td>\n",
       "      <td>&lt;NA&gt;</td>\n",
       "    </tr>\n",
       "    <tr>\n",
       "      <th>3</th>\n",
       "      <td>2023-07-27 12:02:51.530</td>\n",
       "      <td>3</td>\n",
       "      <td>0</td>\n",
       "      <td>0</td>\n",
       "      <td>0</td>\n",
       "      <td>0</td>\n",
       "      <td>N</td>\n",
       "      <td>0</td>\n",
       "      <td>&lt;NA&gt;</td>\n",
       "      <td>0</td>\n",
       "      <td>&lt;NA&gt;</td>\n",
       "      <td>&lt;NA&gt;</td>\n",
       "      <td>&lt;NA&gt;</td>\n",
       "    </tr>\n",
       "    <tr>\n",
       "      <th>4</th>\n",
       "      <td>2023-07-27 12:04:14.732</td>\n",
       "      <td>4</td>\n",
       "      <td>0</td>\n",
       "      <td>0</td>\n",
       "      <td>0</td>\n",
       "      <td>0</td>\n",
       "      <td>N</td>\n",
       "      <td>0</td>\n",
       "      <td>&lt;NA&gt;</td>\n",
       "      <td>0</td>\n",
       "      <td>&lt;NA&gt;</td>\n",
       "      <td>&lt;NA&gt;</td>\n",
       "      <td>&lt;NA&gt;</td>\n",
       "    </tr>\n",
       "    <tr>\n",
       "      <th>...</th>\n",
       "      <td>...</td>\n",
       "      <td>...</td>\n",
       "      <td>...</td>\n",
       "      <td>...</td>\n",
       "      <td>...</td>\n",
       "      <td>...</td>\n",
       "      <td>...</td>\n",
       "      <td>...</td>\n",
       "      <td>...</td>\n",
       "      <td>...</td>\n",
       "      <td>...</td>\n",
       "      <td>...</td>\n",
       "      <td>...</td>\n",
       "    </tr>\n",
       "    <tr>\n",
       "      <th>420</th>\n",
       "      <td>2023-07-31 13:56:31.603</td>\n",
       "      <td>382</td>\n",
       "      <td>0</td>\n",
       "      <td>0</td>\n",
       "      <td>0</td>\n",
       "      <td>0</td>\n",
       "      <td>N</td>\n",
       "      <td>0</td>\n",
       "      <td>&lt;NA&gt;</td>\n",
       "      <td>0</td>\n",
       "      <td>&lt;NA&gt;</td>\n",
       "      <td>&lt;NA&gt;</td>\n",
       "      <td>&lt;NA&gt;</td>\n",
       "    </tr>\n",
       "    <tr>\n",
       "      <th>421</th>\n",
       "      <td>2023-07-31 13:57:03.727</td>\n",
       "      <td>383</td>\n",
       "      <td>0</td>\n",
       "      <td>0</td>\n",
       "      <td>0</td>\n",
       "      <td>0</td>\n",
       "      <td>N</td>\n",
       "      <td>0</td>\n",
       "      <td>&lt;NA&gt;</td>\n",
       "      <td>0</td>\n",
       "      <td>&lt;NA&gt;</td>\n",
       "      <td>&lt;NA&gt;</td>\n",
       "      <td>&lt;NA&gt;</td>\n",
       "    </tr>\n",
       "    <tr>\n",
       "      <th>422</th>\n",
       "      <td>2023-07-31 13:57:45.812</td>\n",
       "      <td>384</td>\n",
       "      <td>0</td>\n",
       "      <td>0</td>\n",
       "      <td>0</td>\n",
       "      <td>0</td>\n",
       "      <td>N</td>\n",
       "      <td>0</td>\n",
       "      <td>&lt;NA&gt;</td>\n",
       "      <td>0</td>\n",
       "      <td>&lt;NA&gt;</td>\n",
       "      <td>&lt;NA&gt;</td>\n",
       "      <td>&lt;NA&gt;</td>\n",
       "    </tr>\n",
       "    <tr>\n",
       "      <th>423</th>\n",
       "      <td>2023-07-31 13:58:02.550</td>\n",
       "      <td>385</td>\n",
       "      <td>0</td>\n",
       "      <td>0</td>\n",
       "      <td>0</td>\n",
       "      <td>0</td>\n",
       "      <td>N</td>\n",
       "      <td>0</td>\n",
       "      <td>&lt;NA&gt;</td>\n",
       "      <td>0</td>\n",
       "      <td>&lt;NA&gt;</td>\n",
       "      <td>&lt;NA&gt;</td>\n",
       "      <td>&lt;NA&gt;</td>\n",
       "    </tr>\n",
       "    <tr>\n",
       "      <th>424</th>\n",
       "      <td>2023-07-31 13:59:41.045</td>\n",
       "      <td>386</td>\n",
       "      <td>0</td>\n",
       "      <td>0</td>\n",
       "      <td>0</td>\n",
       "      <td>0</td>\n",
       "      <td>N</td>\n",
       "      <td>0</td>\n",
       "      <td>&lt;NA&gt;</td>\n",
       "      <td>0</td>\n",
       "      <td>&lt;NA&gt;</td>\n",
       "      <td>&lt;NA&gt;</td>\n",
       "      <td>&lt;NA&gt;</td>\n",
       "    </tr>\n",
       "  </tbody>\n",
       "</table>\n",
       "<p>425 rows × 13 columns</p>\n",
       "</div>"
      ],
      "text/plain": [
       "                       Time  Group  Participant  Success  Invested  Photo  \\\n",
       "0   2023-07-27 12:02:21.965      0            0        0         0      0   \n",
       "1   2023-07-27 12:02:33.701      1            0        0         0      0   \n",
       "2   2023-07-27 12:02:40.055      2            0        0         0      0   \n",
       "3   2023-07-27 12:02:51.530      3            0        0         0      0   \n",
       "4   2023-07-27 12:04:14.732      4            0        0         0      0   \n",
       "..                      ...    ...          ...      ...       ...    ...   \n",
       "420 2023-07-31 13:56:31.603    382            0        0         0      0   \n",
       "421 2023-07-31 13:57:03.727    383            0        0         0      0   \n",
       "422 2023-07-31 13:57:45.812    384            0        0         0      0   \n",
       "423 2023-07-31 13:58:02.550    385            0        0         0      0   \n",
       "424 2023-07-31 13:59:41.045    386            0        0         0      0   \n",
       "\n",
       "    Emotion  false_alarm  Notes  Survey    I1    I2    I3  \n",
       "0         N            0   <NA>       0  <NA>  <NA>  <NA>  \n",
       "1         N            0   <NA>       0  <NA>  <NA>  <NA>  \n",
       "2         N            0   <NA>       0  <NA>  <NA>  <NA>  \n",
       "3         N            0   <NA>       0  <NA>  <NA>  <NA>  \n",
       "4         N            0   <NA>       0  <NA>  <NA>  <NA>  \n",
       "..      ...          ...    ...     ...   ...   ...   ...  \n",
       "420       N            0   <NA>       0  <NA>  <NA>  <NA>  \n",
       "421       N            0   <NA>       0  <NA>  <NA>  <NA>  \n",
       "422       N            0   <NA>       0  <NA>  <NA>  <NA>  \n",
       "423       N            0   <NA>       0  <NA>  <NA>  <NA>  \n",
       "424       N            0   <NA>       0  <NA>  <NA>  <NA>  \n",
       "\n",
       "[425 rows x 13 columns]"
      ]
     },
     "execution_count": 15,
     "metadata": {},
     "output_type": "execute_result"
    }
   ],
   "source": [
    "observations_oc"
   ]
  },
  {
   "cell_type": "markdown",
   "id": "5397a050",
   "metadata": {},
   "source": [
    "## Can non-participants be successful, invested, or filled out the survey?"
   ]
  },
  {
   "cell_type": "markdown",
   "id": "ca3f8e92",
   "metadata": {},
   "source": [
    "The answer is no. So we will check:"
   ]
  },
  {
   "cell_type": "code",
   "execution_count": 16,
   "id": "e07373f7",
   "metadata": {},
   "outputs": [],
   "source": [
    "def participant_check(df, name=\"Default\"):\n",
    "    sis = (df[\"Success\"] + df[\"Invested\"] + df[\"Survey\"]) != 0\n",
    "    bad = df[(df.Participant==0) & sis]\n",
    "    if len(bad) > 0: print(\"You have invalid data for \" + name)\n",
    "    return bad"
   ]
  },
  {
   "cell_type": "code",
   "execution_count": 17,
   "id": "a262774d",
   "metadata": {},
   "outputs": [],
   "source": [
    "pcd = participant_check(observations_default)\n",
    "pco = participant_check(observations_oc, \"OC-SORT\")"
   ]
  },
  {
   "cell_type": "markdown",
   "id": "c6e43b30",
   "metadata": {},
   "source": [
    "Good, no issues here."
   ]
  },
  {
   "cell_type": "markdown",
   "id": "65de421f",
   "metadata": {},
   "source": [
    "## Is the sum of Survey actually equal to the number of rows from survey dataframes?"
   ]
  },
  {
   "cell_type": "code",
   "execution_count": 18,
   "id": "dde32961",
   "metadata": {},
   "outputs": [
    {
     "name": "stdout",
     "output_type": "stream",
     "text": [
      "Survey consistent for Default? True\n",
      "Survey consistent for OC-SORT? True\n"
     ]
    }
   ],
   "source": [
    "print(\"Survey consistent for Default?\", observations_default.Survey.sum() == len(default))\n",
    "print(\"Survey consistent for OC-SORT?\", observations_oc.Survey.sum() == len(oc))"
   ]
  },
  {
   "cell_type": "markdown",
   "id": "cbd47513",
   "metadata": {},
   "source": [
    "## Exporting"
   ]
  },
  {
   "cell_type": "code",
   "execution_count": 19,
   "id": "1269f4e9",
   "metadata": {},
   "outputs": [
    {
     "data": {
      "text/plain": [
       "True"
      ]
     },
     "execution_count": 19,
     "metadata": {},
     "output_type": "execute_result"
    }
   ],
   "source": [
    "os.path.isdir(\"cleaned\")"
   ]
  },
  {
   "cell_type": "code",
   "execution_count": 20,
   "id": "11cc1320",
   "metadata": {},
   "outputs": [],
   "source": [
    "fn = \"cleaned\"\n",
    "if not os.path.isdir(fn):\n",
    "    os.makedirs(fn)\n",
    "    print(\"Folder named\", fn, \"created successfully!\")\n",
    "\n",
    "observations_default.to_csv(os.path.join(fn,\"observations_default.csv\"), index=False)\n",
    "observations_oc.to_csv(os.path.join(fn,\"observations_oc.csv\"), index=False)\n",
    "default.to_csv(os.path.join(fn,\"default.csv\"), index=False)\n",
    "oc.to_csv(os.path.join(fn,\"oc.csv\"), index=False)"
   ]
  },
  {
   "cell_type": "code",
   "execution_count": null,
   "id": "5031284e",
   "metadata": {},
   "outputs": [],
   "source": []
  }
 ],
 "metadata": {
  "kernelspec": {
   "display_name": "ml",
   "language": "python",
   "name": "ml"
  },
  "language_info": {
   "codemirror_mode": {
    "name": "ipython",
    "version": 3
   },
   "file_extension": ".py",
   "mimetype": "text/x-python",
   "name": "python",
   "nbconvert_exporter": "python",
   "pygments_lexer": "ipython3",
   "version": "3.7.13"
  }
 },
 "nbformat": 4,
 "nbformat_minor": 5
}
