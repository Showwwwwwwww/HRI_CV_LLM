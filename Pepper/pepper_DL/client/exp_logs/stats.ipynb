{
 "cells": [
  {
   "cell_type": "code",
   "execution_count": 9,
   "id": "2a0291e2",
   "metadata": {},
   "outputs": [
    {
     "data": {
      "text/html": [
       "<div>\n",
       "<style scoped>\n",
       "    .dataframe tbody tr th:only-of-type {\n",
       "        vertical-align: middle;\n",
       "    }\n",
       "\n",
       "    .dataframe tbody tr th {\n",
       "        vertical-align: top;\n",
       "    }\n",
       "\n",
       "    .dataframe thead th {\n",
       "        text-align: right;\n",
       "    }\n",
       "</style>\n",
       "<table border=\"1\" class=\"dataframe\">\n",
       "  <thead>\n",
       "    <tr style=\"text-align: right;\">\n",
       "      <th></th>\n",
       "      <th>Attempt_no</th>\n",
       "      <th>Model</th>\n",
       "      <th>Distance</th>\n",
       "      <th>Time_to_Target</th>\n",
       "      <th>FPS</th>\n",
       "      <th>Occluded_Frames_Count</th>\n",
       "      <th>Outcome</th>\n",
       "    </tr>\n",
       "  </thead>\n",
       "  <tbody>\n",
       "    <tr>\n",
       "      <th>0</th>\n",
       "      <td>1</td>\n",
       "      <td>BYTETRACK</td>\n",
       "      <td>1.5m</td>\n",
       "      <td>21.607621</td>\n",
       "      <td>10.663463</td>\n",
       "      <td>2.0</td>\n",
       "      <td>Success</td>\n",
       "    </tr>\n",
       "    <tr>\n",
       "      <th>1</th>\n",
       "      <td>2</td>\n",
       "      <td>BYTETRACK</td>\n",
       "      <td>1.5m</td>\n",
       "      <td>14.951010</td>\n",
       "      <td>10.561167</td>\n",
       "      <td>2.0</td>\n",
       "      <td>Success</td>\n",
       "    </tr>\n",
       "    <tr>\n",
       "      <th>2</th>\n",
       "      <td>3</td>\n",
       "      <td>BYTETRACK</td>\n",
       "      <td>1.5m</td>\n",
       "      <td>21.402729</td>\n",
       "      <td>13.073310</td>\n",
       "      <td>1.0</td>\n",
       "      <td>Success</td>\n",
       "    </tr>\n",
       "    <tr>\n",
       "      <th>3</th>\n",
       "      <td>4</td>\n",
       "      <td>BYTETRACK</td>\n",
       "      <td>1.5m</td>\n",
       "      <td>11.469312</td>\n",
       "      <td>10.651056</td>\n",
       "      <td>2.0</td>\n",
       "      <td>Success</td>\n",
       "    </tr>\n",
       "    <tr>\n",
       "      <th>4</th>\n",
       "      <td>5</td>\n",
       "      <td>BYTETRACK</td>\n",
       "      <td>1.5m</td>\n",
       "      <td>13.107579</td>\n",
       "      <td>5.593607</td>\n",
       "      <td>2.0</td>\n",
       "      <td>Success</td>\n",
       "    </tr>\n",
       "  </tbody>\n",
       "</table>\n",
       "</div>"
      ],
      "text/plain": [
       "   Attempt_no      Model Distance  Time_to_Target        FPS  \\\n",
       "0           1  BYTETRACK     1.5m       21.607621  10.663463   \n",
       "1           2  BYTETRACK     1.5m       14.951010  10.561167   \n",
       "2           3  BYTETRACK     1.5m       21.402729  13.073310   \n",
       "3           4  BYTETRACK     1.5m       11.469312  10.651056   \n",
       "4           5  BYTETRACK     1.5m       13.107579   5.593607   \n",
       "\n",
       "   Occluded_Frames_Count  Outcome  \n",
       "0                    2.0  Success  \n",
       "1                    2.0  Success  \n",
       "2                    1.0  Success  \n",
       "3                    2.0  Success  \n",
       "4                    2.0  Success  "
      ]
     },
     "execution_count": 9,
     "metadata": {},
     "output_type": "execute_result"
    }
   ],
   "source": [
    "import pandas as pd\n",
    "import numpy as np\n",
    "\n",
    "df = pd.read_csv(\"occlusion_log_2.csv\")\n",
    "df.head()"
   ]
  },
  {
   "cell_type": "code",
   "execution_count": 10,
   "id": "d361e9ed",
   "metadata": {},
   "outputs": [
    {
     "data": {
      "text/html": [
       "<div>\n",
       "<style scoped>\n",
       "    .dataframe tbody tr th:only-of-type {\n",
       "        vertical-align: middle;\n",
       "    }\n",
       "\n",
       "    .dataframe tbody tr th {\n",
       "        vertical-align: top;\n",
       "    }\n",
       "\n",
       "    .dataframe thead th {\n",
       "        text-align: right;\n",
       "    }\n",
       "</style>\n",
       "<table border=\"1\" class=\"dataframe\">\n",
       "  <thead>\n",
       "    <tr style=\"text-align: right;\">\n",
       "      <th></th>\n",
       "      <th>Attempt_no</th>\n",
       "      <th>Model</th>\n",
       "      <th>Distance</th>\n",
       "      <th>Time_to_Target</th>\n",
       "      <th>FPS</th>\n",
       "      <th>Occluded_Frames_Count</th>\n",
       "      <th>Outcome</th>\n",
       "      <th>type</th>\n",
       "    </tr>\n",
       "  </thead>\n",
       "  <tbody>\n",
       "    <tr>\n",
       "      <th>0</th>\n",
       "      <td>1</td>\n",
       "      <td>BYTETRACK</td>\n",
       "      <td>1.5m</td>\n",
       "      <td>21.607621</td>\n",
       "      <td>10.663463</td>\n",
       "      <td>2.0</td>\n",
       "      <td>Success</td>\n",
       "      <td>DL</td>\n",
       "    </tr>\n",
       "    <tr>\n",
       "      <th>1</th>\n",
       "      <td>2</td>\n",
       "      <td>BYTETRACK</td>\n",
       "      <td>1.5m</td>\n",
       "      <td>14.951010</td>\n",
       "      <td>10.561167</td>\n",
       "      <td>2.0</td>\n",
       "      <td>Success</td>\n",
       "      <td>DL</td>\n",
       "    </tr>\n",
       "    <tr>\n",
       "      <th>2</th>\n",
       "      <td>3</td>\n",
       "      <td>BYTETRACK</td>\n",
       "      <td>1.5m</td>\n",
       "      <td>21.402729</td>\n",
       "      <td>13.073310</td>\n",
       "      <td>1.0</td>\n",
       "      <td>Success</td>\n",
       "      <td>DL</td>\n",
       "    </tr>\n",
       "    <tr>\n",
       "      <th>3</th>\n",
       "      <td>4</td>\n",
       "      <td>BYTETRACK</td>\n",
       "      <td>1.5m</td>\n",
       "      <td>11.469312</td>\n",
       "      <td>10.651056</td>\n",
       "      <td>2.0</td>\n",
       "      <td>Success</td>\n",
       "      <td>DL</td>\n",
       "    </tr>\n",
       "    <tr>\n",
       "      <th>4</th>\n",
       "      <td>5</td>\n",
       "      <td>BYTETRACK</td>\n",
       "      <td>1.5m</td>\n",
       "      <td>13.107579</td>\n",
       "      <td>5.593607</td>\n",
       "      <td>2.0</td>\n",
       "      <td>Success</td>\n",
       "      <td>DL</td>\n",
       "    </tr>\n",
       "  </tbody>\n",
       "</table>\n",
       "</div>"
      ],
      "text/plain": [
       "   Attempt_no      Model Distance  Time_to_Target        FPS  \\\n",
       "0           1  BYTETRACK     1.5m       21.607621  10.663463   \n",
       "1           2  BYTETRACK     1.5m       14.951010  10.561167   \n",
       "2           3  BYTETRACK     1.5m       21.402729  13.073310   \n",
       "3           4  BYTETRACK     1.5m       11.469312  10.651056   \n",
       "4           5  BYTETRACK     1.5m       13.107579   5.593607   \n",
       "\n",
       "   Occluded_Frames_Count  Outcome type  \n",
       "0                    2.0  Success   DL  \n",
       "1                    2.0  Success   DL  \n",
       "2                    1.0  Success   DL  \n",
       "3                    2.0  Success   DL  \n",
       "4                    2.0  Success   DL  "
      ]
     },
     "execution_count": 10,
     "metadata": {},
     "output_type": "execute_result"
    }
   ],
   "source": [
    "conditions = [\n",
    "    df[\"Model\"] != \"Default\",\n",
    "    #df[\"Model\"] == \"Default\"\n",
    "]\n",
    "\n",
    "outputs = [\n",
    "    \"DL\",\n",
    "    #\"Default\"\n",
    "]\n",
    "\n",
    "res = np.select(conditions, outputs, \"Default\")\n",
    "df[\"type\"] = pd.Series(res)\n",
    "df.head()"
   ]
  },
  {
   "cell_type": "code",
   "execution_count": 18,
   "id": "1beb6b96",
   "metadata": {},
   "outputs": [
    {
     "data": {
      "text/plain": [
       "Model      Distance  Outcome\n",
       "BYTETRACK  1.5m      Success    1.0\n",
       "           2.5m      Failure    0.8\n",
       "                     Success    0.2\n",
       "           3.5m      Success    0.7\n",
       "                     Failure    0.3\n",
       "BoTSORT    1.5m      Success    0.7\n",
       "                     Failure    0.3\n",
       "           2.5m      Success    0.6\n",
       "                     Failure    0.4\n",
       "           3.5m      Success    0.7\n",
       "                     Failure    0.3\n",
       "Default    1.5m      Success    0.9\n",
       "                     Failure    0.1\n",
       "           2.5m      Failure    0.9\n",
       "                     Success    0.1\n",
       "           3.5m      Failure    1.0\n",
       "OCSORT     1.5m      Success    1.0\n",
       "           2.5m      Success    0.6\n",
       "                     Failure    0.4\n",
       "           3.5m      Success    0.7\n",
       "                     Failure    0.3\n",
       "Name: Outcome, dtype: float64"
      ]
     },
     "execution_count": 18,
     "metadata": {},
     "output_type": "execute_result"
    }
   ],
   "source": [
    "df.groupby([\"Model\", \"Distance\"])[\"Outcome\"].value_counts()/10"
   ]
  },
  {
   "cell_type": "code",
   "execution_count": 13,
   "id": "f32da43d",
   "metadata": {},
   "outputs": [
    {
     "data": {
      "text/plain": [
       "0.6888888888888889"
      ]
     },
     "execution_count": 13,
     "metadata": {},
     "output_type": "execute_result"
    }
   ],
   "source": [
    "62/(62+28)"
   ]
  },
  {
   "cell_type": "code",
   "execution_count": 14,
   "id": "b9a78480",
   "metadata": {},
   "outputs": [
    {
     "data": {
      "text/plain": [
       "0.3333333333333333"
      ]
     },
     "execution_count": 14,
     "metadata": {},
     "output_type": "execute_result"
    }
   ],
   "source": [
    "10/30"
   ]
  },
  {
   "cell_type": "code",
   "execution_count": null,
   "id": "d9ccb923",
   "metadata": {},
   "outputs": [],
   "source": []
  }
 ],
 "metadata": {
  "kernelspec": {
   "display_name": "ml",
   "language": "python",
   "name": "ml"
  },
  "language_info": {
   "codemirror_mode": {
    "name": "ipython",
    "version": 3
   },
   "file_extension": ".py",
   "mimetype": "text/x-python",
   "name": "python",
   "nbconvert_exporter": "python",
   "pygments_lexer": "ipython3",
   "version": "3.7.13"
  }
 },
 "nbformat": 4,
 "nbformat_minor": 5
}
